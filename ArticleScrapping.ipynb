{
 "cells": [
  {
   "cell_type": "markdown",
   "id": "661e59a8",
   "metadata": {},
   "source": [
    "# Environmental day Web Scrapping - Data Prepare"
   ]
  },
  {
   "cell_type": "code",
   "execution_count": 20,
   "id": "9e971e9e",
   "metadata": {},
   "outputs": [],
   "source": [
    "import time\n",
    "import json\n",
    "from bs4 import BeautifulSoup as bs\n",
    "from selenium import webdriver\n",
    "from webdriver_manager.chrome import ChromeDriverManager\n",
    "from lxml import etree\n",
    "import xmltodict\n",
    "import urllib3\n",
    "from selenium.common.exceptions import InvalidSessionIdException\n",
    "from selenium.common.exceptions import WebDriverException"
   ]
  },
  {
   "cell_type": "code",
   "execution_count": 21,
   "id": "eb6163f4",
   "metadata": {},
   "outputs": [
    {
     "name": "stdout",
     "output_type": "stream",
     "text": [
      "\n"
     ]
    },
    {
     "name": "stderr",
     "output_type": "stream",
     "text": [
      "[WDM] - ====== WebDriver manager ======\n",
      "[WDM] - Current google-chrome version is 102.0.5005\n",
      "[WDM] - Get LATEST chromedriver version for 102.0.5005 google-chrome\n",
      "[WDM] - Driver [/Users/hermione/.wdm/drivers/chromedriver/mac64/102.0.5005.61/chromedriver] found in cache\n",
      "/var/folders/fj/3rtd_zxj3fd8fx2vq1knfgdc0000gn/T/ipykernel_91817/1983766380.py:1: DeprecationWarning: executable_path has been deprecated, please pass in a Service object\n",
      "  browser = webdriver.Chrome(ChromeDriverManager().install())\n"
     ]
    }
   ],
   "source": [
    "browser = webdriver.Chrome(ChromeDriverManager().install())\n",
    "browser.maximize_window()\n",
    "time.sleep(1)"
   ]
  },
  {
   "cell_type": "markdown",
   "id": "37ca6f90",
   "metadata": {},
   "source": [
    "## Scrapping from UN NEWS"
   ]
  },
  {
   "cell_type": "code",
   "execution_count": 2,
   "id": "ee948d96",
   "metadata": {},
   "outputs": [],
   "source": [
    "MAIN_URL = \"https://news.un.org/\""
   ]
  },
  {
   "cell_type": "code",
   "execution_count": 3,
   "id": "dd117d56",
   "metadata": {},
   "outputs": [],
   "source": [
    "articles_url = []"
   ]
  },
  {
   "cell_type": "code",
   "execution_count": 87,
   "id": "5853cce8",
   "metadata": {},
   "outputs": [
    {
     "name": "stdout",
     "output_type": "stream",
     "text": [
      "---Finished page1---\n",
      "---Finished page2---\n",
      "---Finished page3---\n",
      "---Finished page4---\n",
      "---Finished page5---\n",
      "---Finished page6---\n",
      "---Finished page7---\n",
      "---Finished page8---\n",
      "---Finished page9---\n",
      "---Finished page10---\n",
      "---Finished page11---\n",
      "---Finished page12---\n",
      "---Finished page13---\n",
      "---Finished page14---\n",
      "---Finished page15---\n",
      "---Finished page16---\n",
      "---Finished page17---\n",
      "---Finished page18---\n",
      "---Finished page19---\n",
      "---Finished page20---\n",
      "---Finished page21---\n",
      "---Finished page22---\n",
      "---Finished page23---\n",
      "---Finished page24---\n",
      "---Finished page25---\n",
      "---Finished page26---\n",
      "---Finished page27---\n",
      "---Finished page28---\n",
      "---Finished page29---\n",
      "---Finished page30---\n",
      "---Finished page31---\n",
      "---Finished page32---\n",
      "---Finished page33---\n",
      "---Finished page34---\n",
      "---Finished page35---\n",
      "---Finished page36---\n",
      "---Finished page37---\n",
      "---Finished page38---\n",
      "---Finished page39---\n",
      "---Finished page40---\n",
      "---Finished page41---\n",
      "---Finished page42---\n",
      "---Finished page43---\n",
      "---Finished page44---\n",
      "---Finished page45---\n",
      "---Finished page46---\n",
      "---Finished page47---\n",
      "---Finished page48---\n",
      "---Finished page49---\n",
      "---Finished page50---\n",
      "---Finished page51---\n",
      "---Finished page52---\n",
      "---Finished page53---\n",
      "---Finished page54---\n",
      "---Finished page55---\n",
      "---Finished page56---\n",
      "---Finished page57---\n",
      "---Finished page58---\n",
      "---Finished page59---\n",
      "---Finished page60---\n",
      "---Finished page61---\n",
      "---Finished page62---\n",
      "---Finished page63---\n",
      "---Finished page64---\n",
      "---Finished page65---\n",
      "---Finished page66---\n",
      "---Finished page67---\n",
      "---Finished page68---\n",
      "---Finished page69---\n",
      "---Finished page70---\n",
      "---Finished page71---\n",
      "---Finished page72---\n",
      "---Finished page73---\n",
      "---Finished page74---\n",
      "---Finished page75---\n",
      "---Finished page76---\n",
      "---Finished page77---\n",
      "---Finished page78---\n",
      "---Finished page79---\n",
      "---Finished page80---\n",
      "---Finished page81---\n",
      "---Finished page82---\n",
      "---Finished page83---\n",
      "---Finished page84---\n",
      "---Finished page85---\n",
      "---Finished page86---\n",
      "---Finished page87---\n",
      "---Finished page88---\n",
      "---Finished page89---\n",
      "---Finished page90---\n",
      "---Finished page91---\n",
      "---Finished page92---\n"
     ]
    }
   ],
   "source": [
    "for i in range(1,93):\n",
    "    browser.get(f\"https://news.un.org/en/news/topic/climate-change?page={i}\") \n",
    "    get_page = bs(browser.page_source)\n",
    "    for stories in get_page('div',{'class':'view-content'})[0]('h1',{'class':'story-title'}):\n",
    "        articles_url.append(stories('a')[0]['href'])\n",
    "    print(f\"---Finished page{i}---\")\n",
    "    time.sleep(10)"
   ]
  },
  {
   "cell_type": "code",
   "execution_count": 91,
   "id": "972b930b",
   "metadata": {},
   "outputs": [],
   "source": [
    "with open(\"\",\"w\") as file:\n",
    "    json.dump(articles_url, file)\n",
    "#DO NOT RUN THIS CELL UNLESS YOU KNOW WHAT YOU ARE DOING"
   ]
  },
  {
   "cell_type": "code",
   "execution_count": 5,
   "id": "91b9b33f",
   "metadata": {},
   "outputs": [
    {
     "data": {
      "text/plain": [
       "929"
      ]
     },
     "execution_count": 5,
     "metadata": {},
     "output_type": "execute_result"
    }
   ],
   "source": [
    "with open(\"articles_url.json\",\"r\") as file:\n",
    "    data = json.load(file)\n",
    "len(data)"
   ]
  },
  {
   "cell_type": "code",
   "execution_count": 79,
   "id": "7fb17794",
   "metadata": {},
   "outputs": [],
   "source": [
    "articles = []\n",
    "checkpoint = 50\n",
    "count = 0"
   ]
  },
  {
   "cell_type": "code",
   "execution_count": null,
   "id": "885b07ae",
   "metadata": {},
   "outputs": [],
   "source": []
  },
  {
   "cell_type": "code",
   "execution_count": 82,
   "id": "14ce0b30",
   "metadata": {},
   "outputs": [
    {
     "name": "stdout",
     "output_type": "stream",
     "text": [
      "Checkpoint 200 passed----\n",
      "Checkpoint 250 passed----\n",
      "Checkpoint 300 passed----\n",
      "Checkpoint 350 passed----\n",
      "Checkpoint 400 passed----\n",
      "Checkpoint 450 passed----\n",
      "Checkpoint 500 passed----\n",
      "Checkpoint 550 passed----\n",
      "Checkpoint 600 passed----\n",
      "Checkpoint 650 passed----\n",
      "Checkpoint 700 passed----\n",
      "Checkpoint 750 passed----\n",
      "Checkpoint 800 passed----\n",
      "Checkpoint 850 passed----\n",
      "Checkpoint 900 passed----\n"
     ]
    }
   ],
   "source": [
    "for url in data[170:]:\n",
    "    browser.get(MAIN_URL + url)\n",
    "    content_page = bs(browser.page_source)\n",
    "    article = {}\n",
    "    try:\n",
    "        article[\"title\"] = content_page('div',{'class':'row before-content'})[0]('h1',{'class','story-title'})[0].get_text().strip()\n",
    "    except IndexError:\n",
    "        try:\n",
    "            article[\"title\"] = content_page('div',{'class':'quote-text'})[0]('h2',{'class','story-title'})[0].get_text().strip()\n",
    "        except IndexError:\n",
    "            article[\"title\"] = content_page('h1',{'class':'story-title'})[0].get_text().strip()\n",
    "    try:\n",
    "        text_content = content_page('div',{'class','field-name-field-news-story'})[0]('p')\n",
    "    except IndexError:\n",
    "        continue \n",
    "    content = \"\"\n",
    "    for i in text_content:\n",
    "        content += (i.get_text())\n",
    "    article[\"text\"] = content.strip()\n",
    "    articles.append(article)\n",
    "    count += 1\n",
    "    if count % checkpoint == 0:\n",
    "        with open(f\"articles_content_{count}.json\",\"w\",encoding = \"utf8\") as file:\n",
    "            json.dump(articles,file,ensure_ascii=False)\n",
    "        print(f\"Checkpoint {count} passed----\")\n",
    "        time.sleep(10)\n",
    "    if count % 100 == 0:\n",
    "        time.sleep(20)\n",
    "    "
   ]
  },
  {
   "cell_type": "code",
   "execution_count": 83,
   "id": "51a6ac41",
   "metadata": {},
   "outputs": [],
   "source": [
    "with open(f\"articles_content_{count}.json\",\"w\",encoding = \"utf8\") as file:\n",
    "    json.dump(articles,file, ensure_ascii=False)\n",
    "#DO NOT RUN THIS CELL UNLESS YOU KNOW WHAT YOU ARE DOING"
   ]
  },
  {
   "cell_type": "code",
   "execution_count": 84,
   "id": "ec30e275",
   "metadata": {},
   "outputs": [
    {
     "data": {
      "text/plain": [
       "918"
      ]
     },
     "execution_count": 84,
     "metadata": {},
     "output_type": "execute_result"
    }
   ],
   "source": [
    "len(articles)"
   ]
  },
  {
   "cell_type": "markdown",
   "id": "6e9f5b48",
   "metadata": {},
   "source": [
    "## Scrapping from ScienceDaily"
   ]
  },
  {
   "cell_type": "code",
   "execution_count": 3,
   "id": "efd1b60c",
   "metadata": {},
   "outputs": [],
   "source": [
    "MAIN_URL = \"https://www.sciencedaily.com/newsfeeds.htm\""
   ]
  },
  {
   "cell_type": "code",
   "execution_count": 86,
   "id": "daf12242",
   "metadata": {},
   "outputs": [],
   "source": [
    "browser.get(MAIN_URL)"
   ]
  },
  {
   "cell_type": "code",
   "execution_count": 89,
   "id": "0016d09d",
   "metadata": {},
   "outputs": [],
   "source": [
    "s = bs(browser.page_source)"
   ]
  },
  {
   "cell_type": "code",
   "execution_count": 111,
   "id": "d7228431",
   "metadata": {},
   "outputs": [],
   "source": [
    "scienceDaily = []"
   ]
  },
  {
   "cell_type": "code",
   "execution_count": 112,
   "id": "2268f643",
   "metadata": {},
   "outputs": [],
   "source": [
    "for i in s('div',{'class','table-responsive'})[3]('table',{'class','table'})[0]('td'):\n",
    "    for j in i('li'):\n",
    "        try:\n",
    "            scienceDaily.append(j('a')[0]['href'])\n",
    "        except IndexError:\n",
    "            continue"
   ]
  },
  {
   "cell_type": "code",
   "execution_count": 160,
   "id": "f7ca8409",
   "metadata": {},
   "outputs": [
    {
     "data": {
      "text/plain": [
       "137"
      ]
     },
     "execution_count": 160,
     "metadata": {},
     "output_type": "execute_result"
    }
   ],
   "source": [
    "len(scienceDaily)"
   ]
  },
  {
   "cell_type": "code",
   "execution_count": 161,
   "id": "a8f0ae64",
   "metadata": {},
   "outputs": [
    {
     "data": {
      "text/plain": [
       "'/rss/plants_animals/fisheries.xml'"
      ]
     },
     "execution_count": 161,
     "metadata": {},
     "output_type": "execute_result"
    }
   ],
   "source": [
    "scienceDaily[0]"
   ]
  },
  {
   "cell_type": "code",
   "execution_count": 162,
   "id": "e86e4d62",
   "metadata": {},
   "outputs": [],
   "source": [
    "topic_url = []\n",
    "scienceDaily_url = []"
   ]
  },
  {
   "cell_type": "code",
   "execution_count": 166,
   "id": "2908fb72",
   "metadata": {},
   "outputs": [],
   "source": [
    "for link in scienceDaily:\n",
    "    browser.get(\"https://www.sciencedaily.com\" + link)\n",
    "    s = bs(browser.page_source)\n",
    "    content = s.find('body').get_text()\n",
    "    root = xmltodict.parse(content)\n",
    "    topic_url.append(root['rss']['channel']['link'])\n",
    "    for item in root['rss']['channel']['item']:\n",
    "        scienceDaily_url.append(item['link'])"
   ]
  },
  {
   "cell_type": "code",
   "execution_count": 167,
   "id": "9b09f7e5",
   "metadata": {},
   "outputs": [
    {
     "data": {
      "text/plain": [
       "(274, 8220)"
      ]
     },
     "execution_count": 167,
     "metadata": {},
     "output_type": "execute_result"
    }
   ],
   "source": [
    "len(topic_url), len(scienceDaily_url)"
   ]
  },
  {
   "cell_type": "code",
   "execution_count": 168,
   "id": "99600ae7",
   "metadata": {},
   "outputs": [],
   "source": [
    "with open(\"scienceDaily_url.json\",\"w\") as file:\n",
    "    json.dump(scienceDaily_url, file)"
   ]
  },
  {
   "cell_type": "code",
   "execution_count": 169,
   "id": "84b1f843",
   "metadata": {},
   "outputs": [],
   "source": [
    "with open(\"topic_url.json\",\"w\") as file:\n",
    "    json.dump(topic_url,file)"
   ]
  },
  {
   "cell_type": "code",
   "execution_count": 5,
   "id": "70018d95",
   "metadata": {},
   "outputs": [
    {
     "data": {
      "text/plain": [
       "8220"
      ]
     },
     "execution_count": 5,
     "metadata": {},
     "output_type": "execute_result"
    }
   ],
   "source": [
    "with open(\"scienceDaily_url.json\",\"r\") as file:\n",
    "    scienceDaily_url = json.load(file)\n",
    "len(scienceDaily_url)"
   ]
  },
  {
   "cell_type": "code",
   "execution_count": 13,
   "id": "f8121d70",
   "metadata": {},
   "outputs": [],
   "source": [
    "scienceDaily_articles = []\n",
    "count = 1074\n",
    "checkpoint = 100"
   ]
  },
  {
   "cell_type": "code",
   "execution_count": 7,
   "id": "6ddb8ca0",
   "metadata": {},
   "outputs": [
    {
     "name": "stdout",
     "output_type": "stream",
     "text": [
      "\n"
     ]
    },
    {
     "name": "stderr",
     "output_type": "stream",
     "text": [
      "[WDM] - ====== WebDriver manager ======\n",
      "[WDM] - Current google-chrome version is 102.0.5005\n",
      "[WDM] - Get LATEST chromedriver version for 102.0.5005 google-chrome\n",
      "[WDM] - Driver [/Users/hermione/.wdm/drivers/chromedriver/mac64/102.0.5005.61/chromedriver] found in cache\n",
      "/var/folders/fj/3rtd_zxj3fd8fx2vq1knfgdc0000gn/T/ipykernel_91817/64742463.py:2: DeprecationWarning: executable_path has been deprecated, please pass in a Service object\n",
      "  browser = webdriver.Chrome(ChromeDriverManager().install())\n"
     ]
    }
   ],
   "source": [
    "init()"
   ]
  },
  {
   "cell_type": "code",
   "execution_count": null,
   "id": "8e43d60b",
   "metadata": {},
   "outputs": [
    {
     "name": "stdout",
     "output_type": "stream",
     "text": [
      "Checkpoint 5300 passed -----\n",
      "Checkpoint 5400 passed -----\n",
      "Checkpoint 5500 passed -----\n",
      "Checkpoint 5600 passed -----\n"
     ]
    }
   ],
   "source": [
    "for url in scienceDaily_url[5216:]:\n",
    "    try:\n",
    "        browser.get(url)\n",
    "    except (InvalidSessionIdException, WebDriverException) as err :\n",
    "        browser = webdriver.Chrome(ChromeDriverManager().install())\n",
    "        browser.maximize_window()\n",
    "        time.sleep(1)\n",
    "        browser.get(url)\n",
    "    \n",
    "    try:\n",
    "        s = bs(browser.page_source)\n",
    "    except WebDriverException:\n",
    "        browser = webdriver.Chrome(ChromeDriverManager().install())\n",
    "        browser.maximize_window()\n",
    "        time.sleep(1)\n",
    "        browser.get(url)\n",
    "        s = bs(browser.page_source)\n",
    "    article = {}\n",
    "    article['title'] = s.find(id='headline').get_text().strip()\n",
    "    content = s.find(id='first').get_text().strip()\n",
    "    for string in s.find(id='text')('p'):\n",
    "        content += string.get_text().strip()\n",
    "    article['content'] = content\n",
    "    count += 1\n",
    "    scienceDaily_articles.append(article)\n",
    "    if count % checkpoint == 0:\n",
    "        with open(f\"scienceDaily_article_start=1074_end={1074+count}.json\",\"w\",encoding=\"utf8\") as file:\n",
    "            json.dump(scienceDaily_articles,file,ensure_ascii=False)\n",
    "        print(f\"Checkpoint {count} passed -----\")\n",
    "        time.sleep(10)\n",
    "    if count % 100 == 0:\n",
    "        time.sleep(20)"
   ]
  },
  {
   "cell_type": "code",
   "execution_count": 16,
   "id": "668325da",
   "metadata": {},
   "outputs": [],
   "source": [
    "with open(f\"scienceDaily_article_start=1074_end={1074+count}.json\",\"w\",encoding=\"utf8\") as file:\n",
    "    json.dump(scienceDaily_articles,file,ensure_ascii=False)"
   ]
  },
  {
   "cell_type": "code",
   "execution_count": 18,
   "id": "078bd918",
   "metadata": {},
   "outputs": [
    {
     "data": {
      "text/plain": [
       "4141"
      ]
     },
     "execution_count": 18,
     "metadata": {},
     "output_type": "execute_result"
    }
   ],
   "source": [
    "len(scienceDaily_articles)"
   ]
  },
  {
   "cell_type": "code",
   "execution_count": 17,
   "id": "13ef29ca",
   "metadata": {},
   "outputs": [
    {
     "data": {
      "text/plain": [
       "5215"
      ]
     },
     "execution_count": 17,
     "metadata": {},
     "output_type": "execute_result"
    }
   ],
   "source": [
    "count"
   ]
  },
  {
   "cell_type": "code",
   "execution_count": 219,
   "id": "210991ed",
   "metadata": {},
   "outputs": [],
   "source": [
    "with open(f\"scienceDaily_article_{count}.json\",\"w\",encoding=\"utf8\") as file:\n",
    "    json.dump(scienceDaily_articles,file,ensure_ascii=False)"
   ]
  },
  {
   "cell_type": "markdown",
   "id": "51540efb",
   "metadata": {},
   "source": [
    "# Scrapping from RealWire "
   ]
  },
  {
   "cell_type": "code",
   "execution_count": 52,
   "id": "6012a4cd",
   "metadata": {},
   "outputs": [],
   "source": [
    "browser.get(\"https://www.realwire.com/rss/feeds.asp?cat=Environmental\")\n",
    "s = bs(browser.page_source) "
   ]
  },
  {
   "cell_type": "code",
   "execution_count": 97,
   "id": "e3227dde",
   "metadata": {},
   "outputs": [],
   "source": [
    "RealWire_link = []"
   ]
  },
  {
   "cell_type": "code",
   "execution_count": 98,
   "id": "bd0f6251",
   "metadata": {},
   "outputs": [],
   "source": [
    "for i,string in enumerate(s.find(id='feedTable')('tr')[0]('td')[1]('a')):\n",
    "    if i % 2 == 1:\n",
    "        RealWire_link.append(string['href'][2:])"
   ]
  },
  {
   "cell_type": "code",
   "execution_count": 101,
   "id": "3eb4fb90",
   "metadata": {},
   "outputs": [
    {
     "ename": "ExpatError",
     "evalue": "syntax error: line 4, column 0",
     "output_type": "error",
     "traceback": [
      "\u001b[0;31m---------------------------------------------------------------------------\u001b[0m",
      "\u001b[0;31mExpatError\u001b[0m                                Traceback (most recent call last)",
      "\u001b[0;32m/var/folders/fj/3rtd_zxj3fd8fx2vq1knfgdc0000gn/T/ipykernel_87993/3571393996.py\u001b[0m in \u001b[0;36m<module>\u001b[0;34m\u001b[0m\n\u001b[1;32m      3\u001b[0m     \u001b[0ms\u001b[0m \u001b[0;34m=\u001b[0m \u001b[0mbs\u001b[0m\u001b[0;34m(\u001b[0m\u001b[0mbrowser\u001b[0m\u001b[0;34m.\u001b[0m\u001b[0mpage_source\u001b[0m\u001b[0;34m)\u001b[0m\u001b[0;34m\u001b[0m\u001b[0;34m\u001b[0m\u001b[0m\n\u001b[1;32m      4\u001b[0m     \u001b[0mcontent\u001b[0m \u001b[0;34m=\u001b[0m \u001b[0ms\u001b[0m\u001b[0;34m.\u001b[0m\u001b[0mfind\u001b[0m\u001b[0;34m(\u001b[0m\u001b[0;34m'body'\u001b[0m\u001b[0;34m)\u001b[0m\u001b[0;34m.\u001b[0m\u001b[0mget_text\u001b[0m\u001b[0;34m(\u001b[0m\u001b[0;34m)\u001b[0m\u001b[0;34m\u001b[0m\u001b[0;34m\u001b[0m\u001b[0m\n\u001b[0;32m----> 5\u001b[0;31m     \u001b[0mroot\u001b[0m \u001b[0;34m=\u001b[0m \u001b[0mxmltodict\u001b[0m\u001b[0;34m.\u001b[0m\u001b[0mparse\u001b[0m\u001b[0;34m(\u001b[0m\u001b[0mcontent\u001b[0m\u001b[0;34m)\u001b[0m\u001b[0;34m\u001b[0m\u001b[0;34m\u001b[0m\u001b[0m\n\u001b[0m\u001b[1;32m      6\u001b[0m     \u001b[0mtopic_url\u001b[0m\u001b[0;34m.\u001b[0m\u001b[0mappend\u001b[0m\u001b[0;34m(\u001b[0m\u001b[0mroot\u001b[0m\u001b[0;34m[\u001b[0m\u001b[0;34m'rss'\u001b[0m\u001b[0;34m]\u001b[0m\u001b[0;34m[\u001b[0m\u001b[0;34m'channel'\u001b[0m\u001b[0;34m]\u001b[0m\u001b[0;34m[\u001b[0m\u001b[0;34m'link'\u001b[0m\u001b[0;34m]\u001b[0m\u001b[0;34m)\u001b[0m\u001b[0;34m\u001b[0m\u001b[0;34m\u001b[0m\u001b[0m\n\u001b[1;32m      7\u001b[0m     \u001b[0;32mfor\u001b[0m \u001b[0mitem\u001b[0m \u001b[0;32min\u001b[0m \u001b[0mroot\u001b[0m\u001b[0;34m[\u001b[0m\u001b[0;34m'rss'\u001b[0m\u001b[0;34m]\u001b[0m\u001b[0;34m[\u001b[0m\u001b[0;34m'channel'\u001b[0m\u001b[0;34m]\u001b[0m\u001b[0;34m[\u001b[0m\u001b[0;34m'item'\u001b[0m\u001b[0;34m]\u001b[0m\u001b[0;34m:\u001b[0m\u001b[0;34m\u001b[0m\u001b[0;34m\u001b[0m\u001b[0m\n",
      "\u001b[0;32m/opt/anaconda3/lib/python3.9/site-packages/xmltodict.py\u001b[0m in \u001b[0;36mparse\u001b[0;34m(xml_input, encoding, expat, process_namespaces, namespace_separator, disable_entities, **kwargs)\u001b[0m\n\u001b[1;32m    325\u001b[0m         \u001b[0mparser\u001b[0m\u001b[0;34m.\u001b[0m\u001b[0mParseFile\u001b[0m\u001b[0;34m(\u001b[0m\u001b[0mxml_input\u001b[0m\u001b[0;34m)\u001b[0m\u001b[0;34m\u001b[0m\u001b[0;34m\u001b[0m\u001b[0m\n\u001b[1;32m    326\u001b[0m     \u001b[0;32melse\u001b[0m\u001b[0;34m:\u001b[0m\u001b[0;34m\u001b[0m\u001b[0;34m\u001b[0m\u001b[0m\n\u001b[0;32m--> 327\u001b[0;31m         \u001b[0mparser\u001b[0m\u001b[0;34m.\u001b[0m\u001b[0mParse\u001b[0m\u001b[0;34m(\u001b[0m\u001b[0mxml_input\u001b[0m\u001b[0;34m,\u001b[0m \u001b[0;32mTrue\u001b[0m\u001b[0;34m)\u001b[0m\u001b[0;34m\u001b[0m\u001b[0;34m\u001b[0m\u001b[0m\n\u001b[0m\u001b[1;32m    328\u001b[0m     \u001b[0;32mreturn\u001b[0m \u001b[0mhandler\u001b[0m\u001b[0;34m.\u001b[0m\u001b[0mitem\u001b[0m\u001b[0;34m\u001b[0m\u001b[0;34m\u001b[0m\u001b[0m\n\u001b[1;32m    329\u001b[0m \u001b[0;34m\u001b[0m\u001b[0m\n",
      "\u001b[0;31mExpatError\u001b[0m: syntax error: line 4, column 0"
     ]
    }
   ],
   "source": [
    "for link in RealWire_link:\n",
    "    browser.get(\"https://www.realwire.com\" + link)\n",
    "    s = bs(browser.page_source)\n",
    "    content = s.find('body').get_text()\n",
    "    root = xmltodict.parse(content)\n",
    "    topic_url.append(root['rss']['channel']['link'])\n",
    "    for item in root['rss']['channel']['item']:\n",
    "        scienceDaily_url.append(item['link'])"
   ]
  },
  {
   "cell_type": "code",
   "execution_count": 102,
   "id": "52c97c89",
   "metadata": {},
   "outputs": [
    {
     "data": {
      "text/plain": [
       "'\\n\\n\\nenvironmental- general feed from realwire\\nhttps://www.realwire.com/\\n      Most recent 15 environmental- general articles distributed by realwire\\nen-gb\\nThu, 09 Jun 2022 00:00:01 +0100\\nhttps://blogs.law.harvard.edu/tech/rss\\nNews\\nenquiries@realwire.com (RealWire)\\nCopyright (c) 2022 Realwire limited\\n60\\n\\nenvironmental- general feed from realwire\\nhttps://www.realwire.com/images/realwireRSS.png\\nhttps://www.realwire.com/\\n      \\n\\nGenerate green energy yourself - with the bionic wind turbine VAYU® \\nhttps://www.realwire.com/releases/Generate-green-energy-yourself-with-the-bionic-wind-turbine-VAYU\\n         \\n<![CDATA[If you own a home or a business and want to supply yourself with green energy, you should rely on Swiss technology: The company 3D Wind AG has developed VAYU®, a wind turbine that puts conventional turbines in the shade. In times of climate change and high energy prices, there is much to be said for taking power generation for one\\'s own needs into one\\'s own hands - with a CO2-neutral wind turbine. Reservations about...\\r\\n\\r\\nSource: RealWire]]>\\nThu, 09 Jun 2022 08:00:00 +0100\\nhttps://www.realwire.com/releases/Generate-green-energy-yourself-with-the-bionic-wind-turbine-VAYU\\n\\n\\nXella with significant growth in financial year 2021\\nhttps://www.realwire.com/releases/Xella-with-significant-growth-in-financial-year-2021\\n         <![CDATA[Sales increased to €1,698 million in 2021; a 12.7 percent increase compared to 2020 [1] Publication of 2021 sustainability report: Xella Group rated as ESG ‘low risk’ Duisburg, April 13, 2022 – Xella Group, a leading pan-European materials provider of sustainable, efficient, and affordable walling solutions, was able to benefit from a recovering construction market in the fiscal year 2021. Sales rose significantly by 12.7 percent to €1,698 million (€1,507 million in FY20) with both...\\r\\n\\r\\nSource: RealWire]]>\\nWed, 13 Apr 2022 10:41:00 +0100\\nhttps://www.realwire.com/releases/Xella-with-significant-growth-in-financial-year-2021\\n\\n\\nOrbus Software partners with Planetly to drive sustainability and accelerate carbon emission reductions across the global tech ecosystem\\nhttps://www.realwire.com/releases/Orbus-Software-partners-with-Planetly-to-drive-sustainability\\n         <![CDATA[The integration with Planetly will enable Orbus to visualise, calculate, reduce and offset its carbon footprint as part of its mission to help organisations achieve carbon negative commitment in 2022 Orbus Software will also empower customers with insights into how to accelerate their digital transformation journeys to become more digital, resilient and sustainable enterprises London: 12th April: Orbus Software, a leading provider of cloud solutions for digital transformation, has today announced its global partnership with...\\r\\n\\r\\nSource: RealWire]]>\\nTue, 12 Apr 2022 10:00:00 +0100\\nhttps://www.realwire.com/releases/Orbus-Software-partners-with-Planetly-to-drive-sustainability\\n\\n\\nH is for Hemp, by Maren Krings – printed on Hahnemühle Hemp Paper\\nhttps://www.realwire.com/releases/H-is-for-Hemp-by-Maren-Krings-printed-on-Hahnemuhle-Hemp-Paper\\n         \\n<![CDATA[World\\'s first Hybrid Hemp paper suitable for book publishing and indigo printing premiers for London Book Fair in a published book. Hahnemühle supports 100% tree-free book with its very own environmental initiative Green Rooster The world\\'s first bookprinting paper made of Hemp is a passion project and lifetime commitment of photographer and climate impact storyteller Maren Krings. Her book on the subject of industrial hemp, its history and uses led her naturally to German paper...\\r\\n\\r\\nSource: RealWire]]>\\nMon, 04 Apr 2022 13:00:00 +0100\\nhttps://www.realwire.com/releases/H-is-for-Hemp-by-Maren-Krings-printed-on-Hahnemuhle-Hemp-Paper\\n\\n\\nSynspective works with the World Bank and NDRRMA to assess slope instability-related geohazards in Melamchi, Nepal\\nhttps://www.realwire.com/releases/Synspective-works-with-the-World-Bank-and-NDRRMA\\n         \\n<![CDATA[InSAR-based Approach Discovers Spatio-temporal Slope Susceptibility Tokyo, Japan, 23rd March 2022 – Synspective Inc., under the supervision of the World Bank and National Disaster Risk Reduction and Management Authority (NDRRMA), Government of Nepal, investigated the land displacement hazards in the upstream part of the Melamchi River, Nepal in response to the destructive flood disaster that occurred there on June 15, 2021. The results demonstrated that Synthetic Aperture Radar (SAR) data and time-series interferometric SAR (InSAR)...\\r\\n\\r\\nSource: RealWire]]>\\nWed, 23 Mar 2022 12:08:00 +0100\\nhttps://www.realwire.com/releases/Synspective-works-with-the-World-Bank-and-NDRRMA\\n\\n\\nPlatform.sh commits to helping its customers reduce carbon emissions from cloud activities\\nhttps://www.realwire.com/releases/Platformsh-commits-to-helping-its-customers-reduce-carbon-emissions\\n         <![CDATA[Paris/San Francisco, 17th March 2022 - Platform.sh, a unified, secure, enterprise-grade platform for building, running and scaling web applications, has worked with Greenly to calculate its carbon emissions to provide a clear picture to its customers. Climate change is real. The IT sector is estimated to be responsible for 4% of the global GES emissions, a bigger impact than the airline industry already, and it is growing much faster. Platform.sh is committed to reducing its...\\r\\n\\r\\nSource: RealWire]]>\\nThu, 17 Mar 2022 09:00:00 +0100\\nhttps://www.realwire.com/releases/Platformsh-commits-to-helping-its-customers-reduce-carbon-emissions\\n\\n\\nLaunch of Versarien Lunar 3D printed lifestyle pods\\nhttps://www.realwire.com/releases/Launch-of-Versarien-Lunar-3D-printed-lifestyle-pods\\n         \\n<![CDATA[Advanced material pioneer unveils 3D printed concrete construction using Cementene™ Versarien plc, an advanced engineering materials group and provider of graphene-enhanced cement admixture, today announces the launch of its “Lunar” lifestyle pods designed with sustainability and innovation at the core. Lunar is Versarien’s first 3D printed concrete product made with Cementene™, Versarien’s graphene-enhanced cement. The launch will see Neill Ricketts, CEO of Versarien, unveil a building printed with Cementene™, at the Company\\'s production facilities in...\\r\\n\\r\\nSource: RealWire]]>\\nWed, 09 Mar 2022 08:00:00 +0100\\nhttps://www.realwire.com/releases/Launch-of-Versarien-Lunar-3D-printed-lifestyle-pods\\n\\n\\nEmex hires former KPMG and WSP sustainability veteran as investment in senior team continues\\nhttps://www.realwire.com/releases/Emex-hires-former-KPMG-and-WSP-sustainability-veteran\\n         \\n<![CDATA[Award-winning sustainable development professional, Daniel Gribbin, joins ESG technology provider, Emex, to help businesses more effectively measure and manage their ongoing sustainability and ESG practices. 7th March 2022, Dubai – Leading ESG technology provider Emex has appointed Daniel Gribbin to its global leadership team as VP Sustainability and ESG. Emex’s ongoing investment in senior talent is part of its ambitious plans to expand global market presence and offer more innovative solutions to key business decision...\\r\\n\\r\\nSource: RealWire]]>\\nMon, 07 Mar 2022 09:00:00 +0100\\nhttps://www.realwire.com/releases/Emex-hires-former-KPMG-and-WSP-sustainability-veteran\\n\\n\\nInternational energy efficiency business announces strong UK expansion and growth plans for 2022\\nhttps://www.realwire.com/releases/International-energy-efficiency-business-announces-strong-UK-expansion\\n         \\n<![CDATA[Best.Energy, the business energy monitoring and management company, announces an exciting growth stage in 2022, as it looks to expand its energy efficiency operations in the UK. With most businesses wasting between 10-40% of their energy spend and the energy price cap set to rise by 54% in April 2022, energy efficiency and management has never been more important. A boardroom issue for most organisations globally, Best.Energy helps businesses measure and reduce their energy expenditure...\\r\\n\\r\\nSource: RealWire]]>\\nThu, 10 Feb 2022 17:00:00 +0100\\nhttps://www.realwire.com/releases/International-energy-efficiency-business-announces-strong-UK-expansion\\n\\n\\nIFCO celebrates three decades of innovation and sustainability in fresh-grocery supply chains\\nhttps://www.realwire.com/releases/IFCO-celebrates-three-decades-of-innovation-and-sustainability\\n         <![CDATA[In 1992, IFCO began transforming the fresh-grocery supply chain, introducing the circular economy, and enabling sustainable transportation of fresh food Munich, Germany, February 2, 2022: IFCO, the world’s leading provider of Reusable Packaging Containers (RPCs) for fresh grocery products, is celebrating its 30th anniversary. In 1992, IFCO dared to challenge the linear economy norms by pioneering a unique share-reuse-recycle model based on the circular economy. Today, IFCO RPCs are used in over 1.9 billion shipments...\\r\\n\\r\\nSource: RealWire]]>\\nWed, 02 Feb 2022 13:15:00 +0100\\nhttps://www.realwire.com/releases/IFCO-celebrates-three-decades-of-innovation-and-sustainability\\n\\n\\nIFCO delivers growing environmental savings with its partners in the fresh supply chain, presenting its Sustainability Certificate for the 5th consecutive year\\nhttps://www.realwire.com/releases/IFCO-delivers-growing-environmental-savings-with-its-partners\\n         <![CDATA[IFCO shares savings through a certificate presented to retailers and growers, showing their commitment to environmental protection and sustainability Munich, Germany, January 27, 2022: IFCO, the world’s leading provider of Reusable Packaging Containers (RPCs) for fresh grocery products, has awarded its annual Sustainability Certificate for the fifth consecutive year to retailers and growers, acknowledging their sustainability efforts by using IFCO RPCs. As a pioneer in driving supply chain sustainability with its business model based on...\\r\\n\\r\\nSource: RealWire]]>\\nThu, 27 Jan 2022 13:00:00 +0100\\nhttps://www.realwire.com/releases/IFCO-delivers-growing-environmental-savings-with-its-partners\\n\\n\\nAMH Philippines and Synspective sign MoU for Strategic Alliance to use SAR Data for Geohazard Mitigation Projects in the Philippines\\nhttps://www.realwire.com/releases/AMH-Philippines-and-Synspective-sign-MoU-for-Strategic-Alliance\\n         \\n<![CDATA[(January 25 2022) AMH Philippines, Inc. and Synspective have signed a Memorandum of Understanding (MoU) to use SAR technology as part of an integrated and comprehensive approach to mitigate geohazards for infrastructure in the Philippines. The partnership includes the Land Displacement Monitoring (LDM) service, fully developed and automated by Synspective, and is empowered with AMH’s years of local experience in various projects in transportation infrastructure, energy, property, and mining sectors. BackgroundAMH Philippines, Inc. is actively...\\r\\n\\r\\nSource: RealWire]]>\\nTue, 25 Jan 2022 12:08:00 +0100\\nhttps://www.realwire.com/releases/AMH-Philippines-and-Synspective-sign-MoU-for-Strategic-Alliance\\n\\n\\nHope Spot Ocean? – combining conservation and sustainable use\\nhttps://www.realwire.com/releases/Hope-Spot-Ocean-combining-conservation-and-sustainable-use\\n         \\n<![CDATA[The new World Ocean Review: Communicating the latest marine knowledge understandably More than ten years after the first edition of the World Ocean Review (WOR), maribus gGmbH and their scientific partners, the German Marine Research Consortium (KDM) and the Kiel Future Ocean Network, are publishing the next WOR that reviews the overall situation of the oceans. Its conclusion: only together can we achieve solutions for a sustainable future of the ocean by balancing protection and...\\r\\n\\r\\nSource: RealWire]]>\\nWed, 19 Jan 2022 12:42:00 +0100\\nhttps://www.realwire.com/releases/Hope-Spot-Ocean-combining-conservation-and-sustainable-use\\n\\n\\nNew Zylpha annual document bundling awards celebrate legal innovation\\nhttps://www.realwire.com/releases/New-Zylpha-annual-document-bundling-awards-celebrate-legal-innovation\\n         \\n<![CDATA[Leading legal software innovator Zylpha (www.zylpha.com) has announced the launch of its new ‘Innovation Awards’. The annual Awards scheme will acknowledge and recognise the legal practices and lawyers that have used Zylpha\\'s document bundling software most extensively and creatively within their practices, often digitally transforming previously manual document management systems.   Commenting on the awards, Miranda Evans, Zylpha’s Marketing Manager says; “Beyond the clear commercial incentive of automating the bundling process, we are constantly impressed...\\r\\n\\r\\nSource: RealWire]]>\\nWed, 15 Dec 2021 11:19:00 +0100\\nhttps://www.realwire.com/releases/New-Zylpha-annual-document-bundling-awards-celebrate-legal-innovation\\n\\n\\nSustainability must be a key consideration in the design and production of fibre cables, says Prysmian\\nhttps://www.realwire.com/releases/Sustainability-must-be-a-key-consideration-in-the-design-of-fibre-cables\\n         <![CDATA[Milan, Italy, 14 December 2021 – To accelerate a shift towards a more circular economy, the environmental and ecological impact of fibre must be key considerations during the design and production processes. According to the new Industry Insight from Prysmian Group, a focus on the development of sustainable fibre networks will ensure that global operators are playing their part towards realising a greener society. With many companies, including Prysmian, setting out ambitious targets to reduce...\\r\\n\\r\\nSource: RealWire]]>\\nTue, 14 Dec 2021 14:05:00 +0100\\nhttps://www.realwire.com/releases/Sustainability-must-be-a-key-consideration-in-the-design-of-fibre-cables\\n\\n\\nThis XML file does not appear to have any style information associated with it. The document tree is shown below.<rss xmlns:atom=\"http://www.w3.org/2005/Atom\" version=\"2.0\">\\n<channel>\\n<atom:link href=\"https://www.realwire.com/rss/?id=344\" rel=\"self\" type=\"application/rss+xml\"/>\\n<title>environmental- general feed from realwire</title>\\n<link>https://www.realwire.com/</link>\\n<description>Most recent 15 environmental- general articles distributed by realwire</description>\\n<language>en-gb</language>\\n<lastBuildDate>Thu, 09 Jun 2022 00:00:01 +0100</lastBuildDate>\\n<docs>https://blogs.law.harvard.edu/tech/rss</docs>\\n<category>News</category>\\n<managingEditor>enquiries@realwire.com (RealWire)</managingEditor>\\n<copyright>Copyright (c) 2022 Realwire limited</copyright>\\n<ttl>60</ttl>\\n<image>\\n<title>environmental- general feed from realwire</title>\\n<url>https://www.realwire.com/images/realwireRSS.png</url>\\n<link>https://www.realwire.com/</link>\\n...</image>\\n<item>\\n<title>Generate green energy yourself - with the bionic wind turbine VAYU® </title>\\n<link>https://www.realwire.com/releases/Generate-green-energy-yourself-with-the-bionic-wind-turbine-VAYU</link>\\n<enclosure url=\"https://www.realwire.com/twitter_writeitfiles/Bild1_1.jpg\" length=\"3027\" type=\"image/jpg\"/>\\n<description><![CDATA[ If you own a home or a business and want to supply yourself with green energy, you should rely on Swiss technology: The company 3D Wind AG has developed VAYU&#174;, a wind turbine that puts conventional turbines in the shade. In times of climate change and high energy prices, there is much to be said for taking power generation for one\\'s own needs into one\\'s own hands - with a CO2-neutral wind turbine. Reservations about...\\r\\n\\r\\nSource: RealWire ]]>...</description>\\n<pubDate>Thu, 09 Jun 2022 08:00:00 +0100</pubDate>\\n<guid isPermaLink=\"true\">https://www.realwire.com/releases/Generate-green-energy-yourself-with-the-bionic-wind-turbine-VAYU</guid>\\n...</item>\\n<item>\\n<title>Xella with significant growth in financial year 2021</title>\\n<link>https://www.realwire.com/releases/Xella-with-significant-growth-in-financial-year-2021</link>\\n<description><![CDATA[ Sales increased to &#8364;1,698 million in 2021; a 12.7 percent increase compared to 2020 [1] Publication of 2021 sustainability report: Xella Group rated as ESG &#8216;low risk&#8217; Duisburg, April 13, 2022 &#8211; Xella Group, a leading pan-European materials provider of sustainable, efficient, and affordable walling solutions, was able to benefit from a recovering construction market in the fiscal year 2021. Sales rose significantly by 12.7 percent to &#8364;1,698 million (&#8364;1,507 million in FY20) with both...\\r\\n\\r\\nSource: RealWire ]]>...</description>\\n<pubDate>Wed, 13 Apr 2022 10:41:00 +0100</pubDate>\\n<guid isPermaLink=\"true\">https://www.realwire.com/releases/Xella-with-significant-growth-in-financial-year-2021</guid>\\n...</item>\\n<item>\\n<title>Orbus Software partners with Planetly to drive sustainability and accelerate carbon emission reductions across the global tech ecosystem</title>\\n<link>https://www.realwire.com/releases/Orbus-Software-partners-with-Planetly-to-drive-sustainability</link>\\n<description><![CDATA[ The integration with Planetly will enable Orbus to visualise, calculate, reduce and offset its carbon footprint as part of its mission to help organisations achieve carbon negative commitment in 2022 Orbus Software will also empower customers with insights into how to accelerate their digital transformation journeys to become more digital, resilient and sustainable enterprises London: 12th April: Orbus Software, a leading provider of cloud solutions for digital transformation, has today announced its global partnership with...\\r\\n\\r\\nSource: RealWire ]]>...</description>\\n<pubDate>Tue, 12 Apr 2022 10:00:00 +0100</pubDate>\\n<guid isPermaLink=\"true\">https://www.realwire.com/releases/Orbus-Software-partners-with-Planetly-to-drive-sustainability</guid>\\n...</item>\\n<item>\\n<title>H is for Hemp, by Maren Krings – printed on Hahnemühle Hemp Paper</title>\\n<link>https://www.realwire.com/releases/H-is-for-Hemp-by-Maren-Krings-printed-on-Hahnemuhle-Hemp-Paper</link>\\n<enclosure url=\"https://www.realwire.com/twitter_writeitfiles/MarenKrings_Hanfbuch_fpapiergedruckt.jpg\" length=\"54466\" type=\"image/jpg\"/>\\n<description><![CDATA[ World\\'s first Hybrid Hemp paper suitable for book publishing and indigo printing premiers for London Book Fair in a published book. Hahnem&#252;hle supports 100% tree-free book with its very own environmental initiative Green Rooster The world\\'s first bookprinting paper made of Hemp is a passion project and lifetime commitment of photographer and climate impact storyteller Maren Krings. Her book on the subject of industrial hemp, its history and uses led her naturally to German paper...\\r\\n\\r\\nSource: RealWire ]]>...</description>\\n<pubDate>Mon, 04 Apr 2022 13:00:00 +0100</pubDate>\\n<guid isPermaLink=\"true\">https://www.realwire.com/releases/H-is-for-Hemp-by-Maren-Krings-printed-on-Hahnemuhle-Hemp-Paper</guid>\\n...</item>\\n<item>\\n<title>Synspective works with the World Bank and NDRRMA to assess slope instability-related geohazards in Melamchi, Nepal</title>\\n<link>https://www.realwire.com/releases/Synspective-works-with-the-World-Bank-and-NDRRMA</link>\\n<enclosure url=\"https://www.realwire.com/twitter_writeitfiles/Synspective_LDM.jpg\" length=\"22567\" type=\"image/jpg\"/>\\n<description><![CDATA[ InSAR-based Approach Discovers Spatio-temporal Slope Susceptibility Tokyo, Japan, 23rd March 2022 &#8211; Synspective Inc., under the supervision of the World Bank and National Disaster Risk Reduction and Management Authority (NDRRMA), Government of Nepal, investigated the land displacement hazards in the upstream part of the Melamchi River, Nepal in response to the destructive flood disaster that occurred there on June 15, 2021. The results demonstrated that Synthetic Aperture Radar (SAR) data and time-series interferometric SAR (InSAR)...\\r\\n\\r\\nSource: RealWire ]]>...</description>\\n<pubDate>Wed, 23 Mar 2022 12:08:00 +0100</pubDate>\\n<guid isPermaLink=\"true\">https://www.realwire.com/releases/Synspective-works-with-the-World-Bank-and-NDRRMA</guid>\\n...</item>\\n<item>\\n<title>Platform.sh commits to helping its customers reduce carbon emissions from cloud activities</title>\\n<link>https://www.realwire.com/releases/Platformsh-commits-to-helping-its-customers-reduce-carbon-emissions</link>\\n<description><![CDATA[ Paris/San Francisco, 17th March 2022 - Platform.sh, a unified, secure, enterprise-grade platform for building, running and scaling web applications, has worked with Greenly to calculate its carbon emissions to provide a clear picture to its customers. Climate change is real. The IT sector is estimated to be responsible for 4% of the global GES emissions, a bigger impact than the airline industry already, and it is growing much faster. Platform.sh is committed to reducing its...\\r\\n\\r\\nSource: RealWire ]]>...</description>\\n<pubDate>Thu, 17 Mar 2022 09:00:00 +0100</pubDate>\\n<guid isPermaLink=\"true\">https://www.realwire.com/releases/Platformsh-commits-to-helping-its-customers-reduce-carbon-emissions</guid>\\n...</item>\\n<item>\\n<title>Launch of Versarien Lunar 3D printed lifestyle pods</title>\\n<link>https://www.realwire.com/releases/Launch-of-Versarien-Lunar-3D-printed-lifestyle-pods</link>\\n<enclosure url=\"https://www.realwire.com/twitter_writeitfiles/versarienimage.jpg\" length=\"53685\" type=\"image/jpg\"/>\\n<description><![CDATA[ Advanced material pioneer unveils 3D printed concrete construction using Cementene&#8482; Versarien plc, an advanced engineering materials group and provider of graphene-enhanced cement admixture, today announces the launch of its &#8220;Lunar&#8221; lifestyle pods designed with sustainability and innovation at the core. Lunar is Versarien&#8217;s first 3D printed concrete product made with Cementene&#8482;, Versarien&#8217;s graphene-enhanced cement. The launch will see Neill Ricketts, CEO of Versarien, unveil a building printed with Cementene&#8482;, at the Company\\'s production facilities in...\\r\\n\\r\\nSource: RealWire ]]>...</description>\\n<pubDate>Wed, 09 Mar 2022 08:00:00 +0100</pubDate>\\n<guid isPermaLink=\"true\">https://www.realwire.com/releases/Launch-of-Versarien-Lunar-3D-printed-lifestyle-pods</guid>\\n...</item>\\n<item>\\n<title>Emex hires former KPMG and WSP sustainability veteran as investment in senior team continues</title>\\n<link>https://www.realwire.com/releases/Emex-hires-former-KPMG-and-WSP-sustainability-veteran</link>\\n<enclosure url=\"https://www.realwire.com/twitter_writeitfiles/Daniel_Gribbin.jpg\" length=\"27545\" type=\"image/jpg\"/>\\n<description><![CDATA[ Award-winning sustainable development professional, Daniel Gribbin, joins ESG technology provider, Emex, to help businesses more effectively measure and manage their ongoing sustainability and ESG practices. 7th March 2022, Dubai &#8211; Leading ESG technology provider Emex has appointed Daniel Gribbin to its global leadership team as VP Sustainability and ESG. Emex&#8217;s ongoing investment in senior talent is part of its ambitious plans to expand global market presence and offer more innovative solutions to key business decision...\\r\\n\\r\\nSource: RealWire ]]>...</description>\\n<pubDate>Mon, 07 Mar 2022 09:00:00 +0100</pubDate>\\n<guid isPermaLink=\"true\">https://www.realwire.com/releases/Emex-hires-former-KPMG-and-WSP-sustainability-veteran</guid>\\n...</item>\\n<item>\\n<title>International energy efficiency business announces strong UK expansion and growth plans for 2022</title>\\n<link>https://www.realwire.com/releases/International-energy-efficiency-business-announces-strong-UK-expansion</link>\\n<enclosure url=\"https://www.realwire.com/twitter_writeitfiles/TroyWrigley.jpg\" length=\"29934\" type=\"image/jpg\"/>\\n<description><![CDATA[ Best.Energy, the business energy monitoring and management company, announces an exciting growth stage in 2022, as it looks to expand its energy efficiency operations in the UK. With most businesses wasting between 10-40% of their energy spend and the energy price cap set to rise by 54% in April 2022, energy efficiency and management has never been more important. A boardroom issue for most organisations globally, Best.Energy helps businesses measure and reduce their energy expenditure...\\r\\n\\r\\nSource: RealWire ]]>...</description>\\n<pubDate>Thu, 10 Feb 2022 17:00:00 +0100</pubDate>\\n<guid isPermaLink=\"true\">https://www.realwire.com/releases/International-energy-efficiency-business-announces-strong-UK-expansion</guid>\\n...</item>\\n<item>\\n<title>IFCO celebrates three decades of innovation and sustainability in fresh-grocery supply chains</title>\\n<link>https://www.realwire.com/releases/IFCO-celebrates-three-decades-of-innovation-and-sustainability</link>\\n<description><![CDATA[ In 1992, IFCO began transforming the fresh-grocery supply chain, introducing the circular economy, and enabling sustainable transportation of fresh food Munich, Germany, February 2, 2022: IFCO, the world&#8217;s leading provider of Reusable Packaging Containers (RPCs) for fresh grocery products, is celebrating its 30th anniversary. In 1992, IFCO dared to challenge the linear economy norms by pioneering a unique share-reuse-recycle model based on the circular economy. Today, IFCO RPCs are used in over 1.9 billion shipments...\\r\\n\\r\\nSource: RealWire ]]>...</description>\\n<pubDate>Wed, 02 Feb 2022 13:15:00 +0100</pubDate>\\n<guid isPermaLink=\"true\">https://www.realwire.com/releases/IFCO-celebrates-three-decades-of-innovation-and-sustainability</guid>\\n...</item>\\n<item>\\n<title>IFCO delivers growing environmental savings with its partners in the fresh supply chain, presenting its Sustainability Certificate for the 5th consecutive year</title>\\n<link>https://www.realwire.com/releases/IFCO-delivers-growing-environmental-savings-with-its-partners</link>\\n<description><![CDATA[ IFCO shares savings through a certificate presented to retailers and growers, showing their commitment to environmental protection and sustainability Munich, Germany, January 27, 2022: IFCO, the world&#8217;s leading provider of Reusable Packaging Containers (RPCs) for fresh grocery products, has awarded its annual Sustainability Certificate for the fifth consecutive year to retailers and growers, acknowledging their sustainability efforts by using IFCO RPCs. As a pioneer in driving supply chain sustainability with its business model based on...\\r\\n\\r\\nSource: RealWire ]]>...</description>\\n<pubDate>Thu, 27 Jan 2022 13:00:00 +0100</pubDate>\\n<guid isPermaLink=\"true\">https://www.realwire.com/releases/IFCO-delivers-growing-environmental-savings-with-its-partners</guid>\\n...</item>\\n<item>\\n<title>AMH Philippines and Synspective sign MoU for Strategic Alliance to use SAR Data for Geohazard Mitigation Projects in the Philippines</title>\\n<link>https://www.realwire.com/releases/AMH-Philippines-and-Synspective-sign-MoU-for-Strategic-Alliance</link>\\n<enclosure url=\"https://www.realwire.com/twitter_writeitfiles/Figure-1_2.jpg\" length=\"32283\" type=\"image/jpg\"/>\\n<description><![CDATA[ (January 25 2022) AMH Philippines, Inc. and Synspective have signed a Memorandum of Understanding (MoU) to use SAR technology as part of an integrated and comprehensive approach to mitigate geohazards for infrastructure in the Philippines. The partnership includes the Land Displacement Monitoring (LDM) service, fully developed and automated by Synspective, and is empowered with AMH&#8217;s years of local experience in various projects in transportation infrastructure, energy, property, and mining sectors. BackgroundAMH Philippines, Inc. is actively...\\r\\n\\r\\nSource: RealWire ]]>...</description>\\n<pubDate>Tue, 25 Jan 2022 12:08:00 +0100</pubDate>\\n<guid isPermaLink=\"true\">https://www.realwire.com/releases/AMH-Philippines-and-Synspective-sign-MoU-for-Strategic-Alliance</guid>\\n...</item>\\n<item>\\n<title>Hope Spot Ocean? – combining conservation and sustainable use</title>\\n<link>https://www.realwire.com/releases/Hope-Spot-Ocean-combining-conservation-and-sustainable-use</link>\\n<enclosure url=\"https://www.realwire.com/twitter_writeitfiles/wor-7_en_cover.jpg\" length=\"7754\" type=\"image/jpg\"/>\\n<description><![CDATA[ The new World Ocean Review: Communicating the latest marine knowledge understandably More than ten years after the first edition of the World Ocean Review (WOR), maribus gGmbH and their scientific partners, the German Marine Research Consortium (KDM) and the Kiel Future Ocean Network, are publishing the next WOR that reviews the overall situation of the oceans. Its conclusion: only together can we achieve solutions for a sustainable future of the ocean by balancing protection and...\\r\\n\\r\\nSource: RealWire ]]>...</description>\\n<pubDate>Wed, 19 Jan 2022 12:42:00 +0100</pubDate>\\n<guid isPermaLink=\"true\">https://www.realwire.com/releases/Hope-Spot-Ocean-combining-conservation-and-sustainable-use</guid>\\n...</item>\\n<item>\\n<title>New Zylpha annual document bundling awards celebrate legal innovation</title>\\n<link>https://www.realwire.com/releases/New-Zylpha-annual-document-bundling-awards-celebrate-legal-innovation</link>\\n<enclosure url=\"https://www.realwire.com/twitter_writeitfiles/Zylpha-Innovation-Awards-2022.jpg\" length=\"24242\" type=\"image/jpg\"/>\\n<description><![CDATA[ Leading legal software innovator Zylpha (www.zylpha.com) has announced the launch of its new &#8216;Innovation Awards&#8217;. The annual Awards scheme will acknowledge and recognise the legal practices and lawyers that have used Zylpha\\'s document bundling software most extensively and creatively within their practices, often digitally transforming previously manual document management systems. &#32; Commenting on the awards, Miranda Evans, Zylpha&#8217;s Marketing Manager says; &#8220;Beyond the clear commercial incentive of automating the bundling process, we are constantly impressed...\\r\\n\\r\\nSource: RealWire ]]>...</description>\\n<pubDate>Wed, 15 Dec 2021 11:19:00 +0100</pubDate>\\n<guid isPermaLink=\"true\">https://www.realwire.com/releases/New-Zylpha-annual-document-bundling-awards-celebrate-legal-innovation</guid>\\n...</item>\\n<item>\\n<title>Sustainability must be a key consideration in the design and production of fibre cables, says Prysmian</title>\\n<link>https://www.realwire.com/releases/Sustainability-must-be-a-key-consideration-in-the-design-of-fibre-cables</link>\\n<description><![CDATA[ Milan, Italy, 14 December 2021 &#8211; To accelerate a shift towards a more circular economy, the environmental and ecological impact of fibre must be key considerations during the design and production processes. According to the new Industry Insight from Prysmian Group, a focus on the development of sustainable fibre networks will ensure that global operators are playing their part towards realising a greener society. With many companies, including Prysmian, setting out ambitious targets to reduce...\\r\\n\\r\\nSource: RealWire ]]>...</description>\\n<pubDate>Tue, 14 Dec 2021 14:05:00 +0100</pubDate>\\n<guid isPermaLink=\"true\">https://www.realwire.com/releases/Sustainability-must-be-a-key-consideration-in-the-design-of-fibre-cables</guid>\\n...</item>\\n...</channel>\\n...</rss>'"
      ]
     },
     "execution_count": 102,
     "metadata": {},
     "output_type": "execute_result"
    }
   ],
   "source": [
    "content"
   ]
  },
  {
   "cell_type": "code",
   "execution_count": null,
   "id": "7e371142",
   "metadata": {},
   "outputs": [],
   "source": []
  }
 ],
 "metadata": {
  "kernelspec": {
   "display_name": "Python 3 (ipykernel)",
   "language": "python",
   "name": "python3"
  },
  "language_info": {
   "codemirror_mode": {
    "name": "ipython",
    "version": 3
   },
   "file_extension": ".py",
   "mimetype": "text/x-python",
   "name": "python",
   "nbconvert_exporter": "python",
   "pygments_lexer": "ipython3",
   "version": "3.9.7"
  }
 },
 "nbformat": 4,
 "nbformat_minor": 5
}
