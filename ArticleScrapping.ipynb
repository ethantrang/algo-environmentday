{
 "cells": [
  {
   "cell_type": "markdown",
   "id": "661e59a8",
   "metadata": {},
   "source": [
    "# Environmental day Web Scrapping - Data Prepare"
   ]
  },
  {
   "cell_type": "code",
   "execution_count": 17,
   "id": "9e971e9e",
   "metadata": {},
   "outputs": [],
   "source": [
    "import time \n",
    "from bs4 import BeautifulSoup as bs\n",
    "from selenium import webdriver\n",
    "from webdriver_manager.chrome import ChromeDriverManager"
   ]
  },
  {
   "cell_type": "markdown",
   "id": "e853998d",
   "metadata": {},
   "source": [
    "## Scrapping from UN NEWS"
   ]
  },
  {
   "cell_type": "code",
   "execution_count": 67,
   "id": "8ba56f56",
   "metadata": {},
   "outputs": [],
   "source": [
    "MAIN_URL = \"https://news.un.org/\""
   ]
  },
  {
   "cell_type": "code",
   "execution_count": 80,
   "id": "2846eff4",
   "metadata": {},
   "outputs": [],
   "source": [
    "articles_url = []"
   ]
  },
  {
   "cell_type": "code",
   "execution_count": 86,
   "id": "eb6163f4",
   "metadata": {},
   "outputs": [
    {
     "name": "stdout",
     "output_type": "stream",
     "text": [
      "\n"
     ]
    },
    {
     "name": "stderr",
     "output_type": "stream",
     "text": [
      "[WDM] - ====== WebDriver manager ======\n",
      "[WDM] - Current google-chrome version is 102.0.5005\n",
      "[WDM] - Get LATEST chromedriver version for 102.0.5005 google-chrome\n",
      "[WDM] - Driver [/Users/hermione/.wdm/drivers/chromedriver/mac64/102.0.5005.61/chromedriver] found in cache\n",
      "/var/folders/fj/3rtd_zxj3fd8fx2vq1knfgdc0000gn/T/ipykernel_75154/1983766380.py:1: DeprecationWarning: executable_path has been deprecated, please pass in a Service object\n",
      "  browser = webdriver.Chrome(ChromeDriverManager().install())\n"
     ]
    }
   ],
   "source": [
    "browser = webdriver.Chrome(ChromeDriverManager().install())\n",
    "browser.maximize_window()\n",
    "time.sleep(1)"
   ]
  },
  {
   "cell_type": "code",
   "execution_count": null,
   "id": "5f91490c",
   "metadata": {},
   "outputs": [
    {
     "name": "stdout",
     "output_type": "stream",
     "text": [
      "---Finished page1---\n",
      "---Finished page2---\n",
      "---Finished page3---\n",
      "---Finished page4---\n",
      "---Finished page5---\n",
      "---Finished page6---\n",
      "---Finished page7---\n",
      "---Finished page8---\n",
      "---Finished page9---\n",
      "---Finished page10---\n",
      "---Finished page11---\n",
      "---Finished page12---\n",
      "---Finished page13---\n",
      "---Finished page14---\n",
      "---Finished page15---\n",
      "---Finished page16---\n",
      "---Finished page17---\n",
      "---Finished page18---\n",
      "---Finished page19---\n",
      "---Finished page20---\n",
      "---Finished page21---\n",
      "---Finished page22---\n",
      "---Finished page23---\n",
      "---Finished page24---\n",
      "---Finished page25---\n",
      "---Finished page26---\n",
      "---Finished page27---\n",
      "---Finished page28---\n",
      "---Finished page29---\n",
      "---Finished page30---\n",
      "---Finished page31---\n",
      "---Finished page32---\n",
      "---Finished page33---\n"
     ]
    }
   ],
   "source": [
    "for i in range(1,93):\n",
    "    browser.get(f\"https://news.un.org/en/news/topic/climate-change?page={i}\") \n",
    "    get_page = bs(browser.page_source)\n",
    "    for stories in get_page('div',{'class':'view-content'})[0]('h1',{'class':'story-title'}):\n",
    "        articles_url.append(stories('a')[0]['href'])\n",
    "    print(f\"---Finished page{i}---\")\n",
    "    time.sleep(10)"
   ]
  },
  {
   "cell_type": "code",
   "execution_count": 79,
   "id": "527f5112",
   "metadata": {},
   "outputs": [
    {
     "name": "stdout",
     "output_type": "stream",
     "text": [
      "['/en/story/2022/05/1119042', '/en/story/2022/05/1118942', '/en/story/2022/05/1118932', '/en/story/2022/05/1118902', '/en/story/2022/05/1118862', '/en/story/2022/05/1118742', '/en/story/2022/05/1118722', '/en/story/2022/05/1118602', '/en/story/2022/05/1118452', '/en/story/2022/05/1118262']\n"
     ]
    }
   ],
   "source": [
    "print(articles_url)"
   ]
  },
  {
   "cell_type": "code",
   "execution_count": null,
   "id": "6ed2d876",
   "metadata": {},
   "outputs": [],
   "source": []
  }
 ],
 "metadata": {
  "kernelspec": {
   "display_name": "Python 3 (ipykernel)",
   "language": "python",
   "name": "python3"
  },
  "language_info": {
   "codemirror_mode": {
    "name": "ipython",
    "version": 3
   },
   "file_extension": ".py",
   "mimetype": "text/x-python",
   "name": "python",
   "nbconvert_exporter": "python",
   "pygments_lexer": "ipython3",
   "version": "3.9.7"
  }
 },
 "nbformat": 4,
 "nbformat_minor": 5
}
