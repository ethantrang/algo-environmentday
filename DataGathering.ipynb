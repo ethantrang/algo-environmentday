{
 "cells": [
  {
   "cell_type": "markdown",
   "id": "661e59a8",
   "metadata": {},
   "source": [
    "# Environmental day Web Scrapping - Data Prepare"
   ]
  },
  {
   "cell_type": "code",
   "execution_count": 1,
   "id": "9e971e9e",
   "metadata": {},
   "outputs": [
    {
     "name": "stderr",
     "output_type": "stream",
     "text": [
      "/usr/lib/python3/dist-packages/requests/__init__.py:89: RequestsDependencyWarning: urllib3 (1.26.9) or chardet (3.0.4) doesn't match a supported version!\n",
      "  warnings.warn(\"urllib3 ({}) or chardet ({}) doesn't match a supported \"\n"
     ]
    }
   ],
   "source": [
    "import time\n",
    "import json\n",
    "from bs4 import BeautifulSoup as bs\n",
    "from selenium import webdriver\n",
    "from webdriver_manager.chrome import ChromeDriverManager\n",
    "from lxml import etree\n",
    "import xmltodict\n",
    "import urllib3\n",
    "from selenium.common.exceptions import InvalidSessionIdException\n",
    "from selenium.common.exceptions import WebDriverException"
   ]
  },
  {
   "cell_type": "code",
   "execution_count": 21,
   "id": "eb6163f4",
   "metadata": {},
   "outputs": [
    {
     "name": "stdout",
     "output_type": "stream",
     "text": [
      "\n"
     ]
    },
    {
     "name": "stderr",
     "output_type": "stream",
     "text": [
      "[WDM] - ====== WebDriver manager ======\n",
      "[WDM] - Current google-chrome version is 102.0.5005\n",
      "[WDM] - Get LATEST chromedriver version for 102.0.5005 google-chrome\n",
      "[WDM] - Driver [/Users/hermione/.wdm/drivers/chromedriver/mac64/102.0.5005.61/chromedriver] found in cache\n",
      "/var/folders/fj/3rtd_zxj3fd8fx2vq1knfgdc0000gn/T/ipykernel_91817/1983766380.py:1: DeprecationWarning: executable_path has been deprecated, please pass in a Service object\n",
      "  browser = webdriver.Chrome(ChromeDriverManager().install())\n"
     ]
    }
   ],
   "source": [
    "browser = webdriver.Chrome(ChromeDriverManager().install())\n",
    "browser.maximize_window()\n",
    "time.sleep(1)"
   ]
  },
  {
   "cell_type": "markdown",
   "id": "37ca6f90",
   "metadata": {},
   "source": [
    "## Scrapping from UN NEWS"
   ]
  },
  {
   "cell_type": "code",
   "execution_count": 2,
   "id": "ee948d96",
   "metadata": {},
   "outputs": [],
   "source": [
    "MAIN_URL = \"https://news.un.org/\""
   ]
  },
  {
   "cell_type": "code",
   "execution_count": 3,
   "id": "dd117d56",
   "metadata": {},
   "outputs": [],
   "source": [
    "articles_url = []"
   ]
  },
  {
   "cell_type": "code",
   "execution_count": 87,
   "id": "5853cce8",
   "metadata": {},
   "outputs": [
    {
     "name": "stdout",
     "output_type": "stream",
     "text": [
      "---Finished page1---\n",
      "---Finished page2---\n",
      "---Finished page3---\n",
      "---Finished page4---\n",
      "---Finished page5---\n",
      "---Finished page6---\n",
      "---Finished page7---\n",
      "---Finished page8---\n",
      "---Finished page9---\n",
      "---Finished page10---\n",
      "---Finished page11---\n",
      "---Finished page12---\n",
      "---Finished page13---\n",
      "---Finished page14---\n",
      "---Finished page15---\n",
      "---Finished page16---\n",
      "---Finished page17---\n",
      "---Finished page18---\n",
      "---Finished page19---\n",
      "---Finished page20---\n",
      "---Finished page21---\n",
      "---Finished page22---\n",
      "---Finished page23---\n",
      "---Finished page24---\n",
      "---Finished page25---\n",
      "---Finished page26---\n",
      "---Finished page27---\n",
      "---Finished page28---\n",
      "---Finished page29---\n",
      "---Finished page30---\n",
      "---Finished page31---\n",
      "---Finished page32---\n",
      "---Finished page33---\n",
      "---Finished page34---\n",
      "---Finished page35---\n",
      "---Finished page36---\n",
      "---Finished page37---\n",
      "---Finished page38---\n",
      "---Finished page39---\n",
      "---Finished page40---\n",
      "---Finished page41---\n",
      "---Finished page42---\n",
      "---Finished page43---\n",
      "---Finished page44---\n",
      "---Finished page45---\n",
      "---Finished page46---\n",
      "---Finished page47---\n",
      "---Finished page48---\n",
      "---Finished page49---\n",
      "---Finished page50---\n",
      "---Finished page51---\n",
      "---Finished page52---\n",
      "---Finished page53---\n",
      "---Finished page54---\n",
      "---Finished page55---\n",
      "---Finished page56---\n",
      "---Finished page57---\n",
      "---Finished page58---\n",
      "---Finished page59---\n",
      "---Finished page60---\n",
      "---Finished page61---\n",
      "---Finished page62---\n",
      "---Finished page63---\n",
      "---Finished page64---\n",
      "---Finished page65---\n",
      "---Finished page66---\n",
      "---Finished page67---\n",
      "---Finished page68---\n",
      "---Finished page69---\n",
      "---Finished page70---\n",
      "---Finished page71---\n",
      "---Finished page72---\n",
      "---Finished page73---\n",
      "---Finished page74---\n",
      "---Finished page75---\n",
      "---Finished page76---\n",
      "---Finished page77---\n",
      "---Finished page78---\n",
      "---Finished page79---\n",
      "---Finished page80---\n",
      "---Finished page81---\n",
      "---Finished page82---\n",
      "---Finished page83---\n",
      "---Finished page84---\n",
      "---Finished page85---\n",
      "---Finished page86---\n",
      "---Finished page87---\n",
      "---Finished page88---\n",
      "---Finished page89---\n",
      "---Finished page90---\n",
      "---Finished page91---\n",
      "---Finished page92---\n"
     ]
    }
   ],
   "source": [
    "for i in range(1,93):\n",
    "    browser.get(f\"https://news.un.org/en/news/topic/climate-change?page={i}\") \n",
    "    get_page = bs(browser.page_source)\n",
    "    for stories in get_page('div',{'class':'view-content'})[0]('h1',{'class':'story-title'}):\n",
    "        articles_url.append(stories('a')[0]['href'])\n",
    "    print(f\"---Finished page{i}---\")\n",
    "    time.sleep(10)"
   ]
  },
  {
   "cell_type": "code",
   "execution_count": 91,
   "id": "972b930b",
   "metadata": {},
   "outputs": [],
   "source": [
    "with open(\"\",\"w\") as file:\n",
    "    json.dump(articles_url, file)\n",
    "#DO NOT RUN THIS CELL UNLESS YOU KNOW WHAT YOU ARE DOING"
   ]
  },
  {
   "cell_type": "code",
   "execution_count": 5,
   "id": "91b9b33f",
   "metadata": {},
   "outputs": [
    {
     "data": {
      "text/plain": [
       "929"
      ]
     },
     "execution_count": 5,
     "metadata": {},
     "output_type": "execute_result"
    }
   ],
   "source": [
    "with open(\"articles_url.json\",\"r\") as file:\n",
    "    data = json.load(file)\n",
    "len(data)"
   ]
  },
  {
   "cell_type": "code",
   "execution_count": 79,
   "id": "7fb17794",
   "metadata": {},
   "outputs": [],
   "source": [
    "articles = []\n",
    "checkpoint = 50\n",
    "count = 0"
   ]
  },
  {
   "cell_type": "code",
   "execution_count": null,
   "id": "885b07ae",
   "metadata": {},
   "outputs": [],
   "source": []
  },
  {
   "cell_type": "code",
   "execution_count": 82,
   "id": "14ce0b30",
   "metadata": {},
   "outputs": [
    {
     "name": "stdout",
     "output_type": "stream",
     "text": [
      "Checkpoint 200 passed----\n",
      "Checkpoint 250 passed----\n",
      "Checkpoint 300 passed----\n",
      "Checkpoint 350 passed----\n",
      "Checkpoint 400 passed----\n",
      "Checkpoint 450 passed----\n",
      "Checkpoint 500 passed----\n",
      "Checkpoint 550 passed----\n",
      "Checkpoint 600 passed----\n",
      "Checkpoint 650 passed----\n",
      "Checkpoint 700 passed----\n",
      "Checkpoint 750 passed----\n",
      "Checkpoint 800 passed----\n",
      "Checkpoint 850 passed----\n",
      "Checkpoint 900 passed----\n"
     ]
    }
   ],
   "source": [
    "for url in data[170:]:\n",
    "    browser.get(MAIN_URL + url)\n",
    "    content_page = bs(browser.page_source)\n",
    "    article = {}\n",
    "    try:\n",
    "        article[\"title\"] = content_page('div',{'class':'row before-content'})[0]('h1',{'class','story-title'})[0].get_text().strip()\n",
    "    except IndexError:\n",
    "        try:\n",
    "            article[\"title\"] = content_page('div',{'class':'quote-text'})[0]('h2',{'class','story-title'})[0].get_text().strip()\n",
    "        except IndexError:\n",
    "            article[\"title\"] = content_page('h1',{'class':'story-title'})[0].get_text().strip()\n",
    "    try:\n",
    "        text_content = content_page('div',{'class','field-name-field-news-story'})[0]('p')\n",
    "    except IndexError:\n",
    "        continue \n",
    "    content = \"\"\n",
    "    for i in text_content:\n",
    "        content += (i.get_text())\n",
    "    article[\"text\"] = content.strip()\n",
    "    articles.append(article)\n",
    "    count += 1\n",
    "    if count % checkpoint == 0:\n",
    "        with open(f\"articles_content_{count}.json\",\"w\",encoding = \"utf8\") as file:\n",
    "            json.dump(articles,file,ensure_ascii=False)\n",
    "        print(f\"Checkpoint {count} passed----\")\n",
    "        time.sleep(10)\n",
    "    if count % 100 == 0:\n",
    "        time.sleep(20)\n",
    "    "
   ]
  },
  {
   "cell_type": "code",
   "execution_count": 83,
   "id": "51a6ac41",
   "metadata": {},
   "outputs": [],
   "source": [
    "with open(f\"articles_content_{count}.json\",\"w\",encoding = \"utf8\") as file:\n",
    "    json.dump(articles,file, ensure_ascii=False)\n",
    "#DO NOT RUN THIS CELL UNLESS YOU KNOW WHAT YOU ARE DOING"
   ]
  },
  {
   "cell_type": "code",
   "execution_count": 84,
   "id": "ec30e275",
   "metadata": {},
   "outputs": [
    {
     "data": {
      "text/plain": [
       "918"
      ]
     },
     "execution_count": 84,
     "metadata": {},
     "output_type": "execute_result"
    }
   ],
   "source": [
    "len(articles)"
   ]
  },
  {
   "cell_type": "markdown",
   "id": "6e9f5b48",
   "metadata": {},
   "source": [
    "## Scrapping from ScienceDaily"
   ]
  },
  {
   "cell_type": "code",
   "execution_count": 3,
   "id": "efd1b60c",
   "metadata": {},
   "outputs": [],
   "source": [
    "MAIN_URL = \"https://www.sciencedaily.com/newsfeeds.htm\""
   ]
  },
  {
   "cell_type": "code",
   "execution_count": 112,
   "id": "2268f643",
   "metadata": {},
   "outputs": [],
   "source": [
    "for i in s('div',{'class','table-responsive'})[3]('table',{'class','table'})[0]('td'):\n",
    "    for j in i('li'):\n",
    "        try:\n",
    "            scienceDaily.append(j('a')[0]['href'])\n",
    "        except IndexError:\n",
    "            continue"
   ]
  },
  {
   "cell_type": "code",
   "execution_count": 166,
   "id": "2908fb72",
   "metadata": {},
   "outputs": [],
   "source": [
    "for link in scienceDaily:\n",
    "    browser.get(\"https://www.sciencedaily.com\" + link)\n",
    "    s = bs(browser.page_source)\n",
    "    content = s.find('body').get_text()\n",
    "    root = xmltodict.parse(content)\n",
    "    topic_url.append(root['rss']['channel']['link'])\n",
    "    for item in root['rss']['channel']['item']:\n",
    "        scienceDaily_url.append(item['link'])"
   ]
  },
  {
   "cell_type": "code",
   "execution_count": 167,
   "id": "9b09f7e5",
   "metadata": {},
   "outputs": [
    {
     "data": {
      "text/plain": [
       "(274, 8220)"
      ]
     },
     "execution_count": 167,
     "metadata": {},
     "output_type": "execute_result"
    }
   ],
   "source": [
    "len(topic_url), len(scienceDaily_url)"
   ]
  },
  {
   "cell_type": "code",
   "execution_count": 168,
   "id": "99600ae7",
   "metadata": {},
   "outputs": [],
   "source": [
    "with open(\"scienceDaily_url.json\",\"w\") as file:\n",
    "    json.dump(scienceDaily_url, file)"
   ]
  },
  {
   "cell_type": "code",
   "execution_count": 169,
   "id": "84b1f843",
   "metadata": {},
   "outputs": [],
   "source": [
    "with open(\"topic_url.json\",\"w\") as file:\n",
    "    json.dump(topic_url,file)"
   ]
  },
  {
   "cell_type": "code",
   "execution_count": 5,
   "id": "7209c482",
   "metadata": {},
   "outputs": [
    {
     "data": {
      "text/plain": [
       "8220"
      ]
     },
     "execution_count": 5,
     "metadata": {},
     "output_type": "execute_result"
    }
   ],
   "source": [
    "with open(\"scienceDaily_url.json\",\"r\") as file:\n",
    "    scienceDaily_url = json.load(file)\n",
    "len(scienceDaily_url)"
   ]
  },
  {
   "cell_type": "code",
   "execution_count": 13,
   "id": "f8121d70",
   "metadata": {},
   "outputs": [],
   "source": [
    "scienceDaily_articles = []\n",
    "count = 1074\n",
    "checkpoint = 100"
   ]
  },
  {
   "cell_type": "code",
   "execution_count": 22,
   "id": "8e43d60b",
   "metadata": {},
   "outputs": [
    {
     "name": "stdout",
     "output_type": "stream",
     "text": [
      "Checkpoint 5300 passed -----\n",
      "Checkpoint 5400 passed -----\n",
      "Checkpoint 5500 passed -----\n",
      "Checkpoint 5600 passed -----\n",
      "\n"
     ]
    },
    {
     "name": "stderr",
     "output_type": "stream",
     "text": [
      "[WDM] - ====== WebDriver manager ======\n",
      "[WDM] - Current google-chrome version is 102.0.5005\n",
      "[WDM] - Get LATEST chromedriver version for 102.0.5005 google-chrome\n",
      "[WDM] - Driver [/Users/hermione/.wdm/drivers/chromedriver/mac64/102.0.5005.61/chromedriver] found in cache\n",
      "/var/folders/fj/3rtd_zxj3fd8fx2vq1knfgdc0000gn/T/ipykernel_91817/3373506621.py:5: DeprecationWarning: executable_path has been deprecated, please pass in a Service object\n",
      "  browser = webdriver.Chrome(ChromeDriverManager().install())\n"
     ]
    },
    {
     "name": "stdout",
     "output_type": "stream",
     "text": [
      "Checkpoint 5700 passed -----\n",
      "Checkpoint 5800 passed -----\n",
      "Checkpoint 5900 passed -----\n",
      "Checkpoint 6000 passed -----\n",
      "\n"
     ]
    },
    {
     "name": "stderr",
     "output_type": "stream",
     "text": [
      "[WDM] - ====== WebDriver manager ======\n",
      "[WDM] - Current google-chrome version is 102.0.5005\n",
      "[WDM] - Get LATEST chromedriver version for 102.0.5005 google-chrome\n",
      "[WDM] - Driver [/Users/hermione/.wdm/drivers/chromedriver/mac64/102.0.5005.61/chromedriver] found in cache\n"
     ]
    },
    {
     "name": "stdout",
     "output_type": "stream",
     "text": [
      "Checkpoint 6100 passed -----\n",
      "Checkpoint 6200 passed -----\n",
      "Checkpoint 6300 passed -----\n",
      "Checkpoint 6400 passed -----\n",
      "\n"
     ]
    },
    {
     "name": "stderr",
     "output_type": "stream",
     "text": [
      "[WDM] - ====== WebDriver manager ======\n",
      "[WDM] - Current google-chrome version is 102.0.5005\n",
      "[WDM] - Get LATEST chromedriver version for 102.0.5005 google-chrome\n",
      "[WDM] - Driver [/Users/hermione/.wdm/drivers/chromedriver/mac64/102.0.5005.61/chromedriver] found in cache\n"
     ]
    },
    {
     "name": "stdout",
     "output_type": "stream",
     "text": [
      "Checkpoint 6500 passed -----\n",
      "Checkpoint 6600 passed -----\n",
      "Checkpoint 6700 passed -----\n",
      "Checkpoint 6800 passed -----\n",
      "Checkpoint 6900 passed -----\n",
      "\n"
     ]
    },
    {
     "name": "stderr",
     "output_type": "stream",
     "text": [
      "[WDM] - ====== WebDriver manager ======\n",
      "[WDM] - Current google-chrome version is 102.0.5005\n",
      "[WDM] - Get LATEST chromedriver version for 102.0.5005 google-chrome\n",
      "[WDM] - Driver [/Users/hermione/.wdm/drivers/chromedriver/mac64/102.0.5005.61/chromedriver] found in cache\n"
     ]
    },
    {
     "name": "stdout",
     "output_type": "stream",
     "text": [
      "Checkpoint 7000 passed -----\n",
      "Checkpoint 7100 passed -----\n",
      "Checkpoint 7200 passed -----\n",
      "Checkpoint 7300 passed -----\n",
      "Checkpoint 7400 passed -----\n",
      "\n"
     ]
    },
    {
     "name": "stderr",
     "output_type": "stream",
     "text": [
      "[WDM] - ====== WebDriver manager ======\n",
      "[WDM] - Current google-chrome version is 102.0.5005\n",
      "[WDM] - Get LATEST chromedriver version for 102.0.5005 google-chrome\n",
      "[WDM] - Driver [/Users/hermione/.wdm/drivers/chromedriver/mac64/102.0.5005.61/chromedriver] found in cache\n"
     ]
    },
    {
     "name": "stdout",
     "output_type": "stream",
     "text": [
      "Checkpoint 7500 passed -----\n",
      "Checkpoint 7600 passed -----\n",
      "Checkpoint 7700 passed -----\n",
      "Checkpoint 7800 passed -----\n",
      "Checkpoint 7900 passed -----\n",
      "Checkpoint 8000 passed -----\n",
      "\n"
     ]
    },
    {
     "name": "stderr",
     "output_type": "stream",
     "text": [
      "[WDM] - ====== WebDriver manager ======\n",
      "[WDM] - Current google-chrome version is 102.0.5005\n",
      "[WDM] - Get LATEST chromedriver version for 102.0.5005 google-chrome\n",
      "[WDM] - Driver [/Users/hermione/.wdm/drivers/chromedriver/mac64/102.0.5005.61/chromedriver] found in cache\n"
     ]
    },
    {
     "name": "stdout",
     "output_type": "stream",
     "text": [
      "Checkpoint 8100 passed -----\n",
      "Checkpoint 8200 passed -----\n"
     ]
    }
   ],
   "source": [
    "for url in scienceDaily_url[5216:]:\n",
    "    try:\n",
    "        browser.get(url)\n",
    "    except (InvalidSessionIdException, WebDriverException) as err :\n",
    "        browser = webdriver.Chrome(ChromeDriverManager().install())\n",
    "        browser.maximize_window()\n",
    "        time.sleep(1)\n",
    "        browser.get(url)\n",
    "    \n",
    "    try:\n",
    "        s = bs(browser.page_source)\n",
    "    except WebDriverException:\n",
    "        browser = webdriver.Chrome(ChromeDriverManager().install())\n",
    "        browser.maximize_window()\n",
    "        time.sleep(1)\n",
    "        browser.get(url)\n",
    "        s = bs(browser.page_source)\n",
    "    article = {}\n",
    "    article['title'] = s.find(id='headline').get_text().strip()\n",
    "    content = s.find(id='first').get_text().strip()\n",
    "    for string in s.find(id='text')('p'):\n",
    "        content += string.get_text().strip()\n",
    "    article['content'] = content\n",
    "    count += 1\n",
    "    scienceDaily_articles.append(article)\n",
    "    if count % checkpoint == 0:\n",
    "        with open(f\"scienceDaily_article_start=1074_end={1074+count}.json\",\"w\",encoding=\"utf8\") as file:\n",
    "            json.dump(scienceDaily_articles,file,ensure_ascii=False)\n",
    "        print(f\"Checkpoint {count} passed -----\")\n",
    "        time.sleep(10)\n",
    "    if count % 100 == 0:\n",
    "        time.sleep(20)"
   ]
  },
  {
   "cell_type": "code",
   "execution_count": 23,
   "id": "668325da",
   "metadata": {},
   "outputs": [],
   "source": [
    "with open(f\"scienceDaily_article_start=1074_end={1074+count}.json\",\"w\",encoding=\"utf8\") as file:\n",
    "    json.dump(scienceDaily_articles,file,ensure_ascii=False)"
   ]
  },
  {
   "cell_type": "code",
   "execution_count": 27,
   "id": "c0e97220",
   "metadata": {},
   "outputs": [
    {
     "data": {
      "text/plain": [
       "8219"
      ]
     },
     "execution_count": 27,
     "metadata": {},
     "output_type": "execute_result"
    }
   ],
   "source": [
    "count"
   ]
  },
  {
   "cell_type": "code",
   "execution_count": 25,
   "id": "1521771a",
   "metadata": {},
   "outputs": [
    {
     "data": {
      "text/plain": [
       "8219"
      ]
     },
     "execution_count": 25,
     "metadata": {},
     "output_type": "execute_result"
    }
   ],
   "source": [
    "with open(f\"scienceDaily_article_start=1074_end=9293.json\",\"r\") as file:\n",
    "    test = json.load(file)\n",
    "len(test) + 1074"
   ]
  },
  {
   "cell_type": "code",
   "execution_count": 219,
   "id": "210991ed",
   "metadata": {},
   "outputs": [],
   "source": [
    "with open(f\"scienceDaily_article_{count}.json\",\"w\",encoding=\"utf8\") as file:\n",
    "    json.dump(scienceDaily_articles,file,ensure_ascii=False)"
   ]
  },
  {
   "cell_type": "markdown",
   "id": "5ded4287",
   "metadata": {},
   "source": [
    "# Scrapping from RealWire "
   ]
  },
  {
   "cell_type": "code",
   "execution_count": 52,
   "id": "7802bd63",
   "metadata": {},
   "outputs": [],
   "source": [
    "browser.get(\"https://www.realwire.com/rss/feeds.asp?cat=Environmental\")\n",
    "s = bs(browser.page_source) "
   ]
  },
  {
   "cell_type": "code",
   "execution_count": 97,
   "id": "357f217b",
   "metadata": {},
   "outputs": [],
   "source": [
    "RealWire_link = []"
   ]
  },
  {
   "cell_type": "code",
   "execution_count": 98,
   "id": "f330ba7c",
   "metadata": {},
   "outputs": [],
   "source": [
    "for i,string in enumerate(s.find(id='feedTable')('tr')[0]('td')[1]('a')):\n",
    "    if i % 2 == 1:\n",
    "        RealWire_link.append(string['href'][2:])"
   ]
  },
  {
   "cell_type": "markdown",
   "id": "829a0a04",
   "metadata": {},
   "source": [
    "# Data Cleaning"
   ]
  },
  {
   "cell_type": "code",
   "execution_count": 26,
   "id": "f8d316f6",
   "metadata": {},
   "outputs": [
    {
     "data": {
      "text/plain": [
       "16748"
      ]
     },
     "execution_count": 26,
     "metadata": {},
     "output_type": "execute_result"
    }
   ],
   "source": [
    "data = []\n",
    "for i in range(2,15):\n",
    "    with open(f\"Huffington Post/backup{i}.json\", \"r\") as file:\n",
    "        data += json.load(file)\n",
    "len(data)"
   ]
  },
  {
   "cell_type": "code",
   "execution_count": 31,
   "id": "2030b28f",
   "metadata": {},
   "outputs": [
    {
     "data": {
      "text/plain": [
       "14354"
      ]
     },
     "execution_count": 31,
     "metadata": {},
     "output_type": "execute_result"
    }
   ],
   "source": [
    "import pandas as pd\n",
    "df = pd.DataFrame(data)\n",
    "df = df.drop_duplicates(subset = ['title'])\n",
    "len(df)"
   ]
  },
  {
   "cell_type": "code",
   "execution_count": 32,
   "id": "d9be0e0a",
   "metadata": {},
   "outputs": [
    {
     "name": "stdout",
     "output_type": "stream",
     "text": [
      "scienceNews_article_3568.json\n",
      "articles_content_918.json\n"
     ]
    },
    {
     "data": {
      "text/plain": [
       "4486"
      ]
     },
     "execution_count": 32,
     "metadata": {},
     "output_type": "execute_result"
    }
   ],
   "source": [
    "import os\n",
    "data = []\n",
    "fList = os.listdir(\"other_article\")\n",
    "for f in fList[0:2]:\n",
    "    print(f)\n",
    "    with open(\"other_article/\"+f, \"r\") as file:\n",
    "        data += json.load(file)\n",
    "len(data)"
   ]
  },
  {
   "cell_type": "code",
   "execution_count": 33,
   "id": "e1896ff4",
   "metadata": {},
   "outputs": [
    {
     "data": {
      "text/plain": [
       "4405"
      ]
     },
     "execution_count": 33,
     "metadata": {},
     "output_type": "execute_result"
    }
   ],
   "source": [
    "df2 = pd.DataFrame(data)\n",
    "df2 = df2.drop_duplicates(subset = ['title'])\n",
    "len(df2)\n"
   ]
  },
  {
   "cell_type": "code",
   "execution_count": 34,
   "id": "a7373d68",
   "metadata": {},
   "outputs": [
    {
     "name": "stdout",
     "output_type": "stream",
     "text": [
      "scienceDaily_article_1073.json\n",
      "scienceDaily_article_start=1074_end=9293.json\n"
     ]
    },
    {
     "data": {
      "text/plain": [
       "8218"
      ]
     },
     "execution_count": 34,
     "metadata": {},
     "output_type": "execute_result"
    }
   ],
   "source": [
    "data = []\n",
    "for f in fList[2:5]:\n",
    "    print(f)\n",
    "    with open(\"other_article/\"+f, \"r\") as file:\n",
    "        data += json.load(file)\n",
    "len(data)"
   ]
  },
  {
   "cell_type": "code",
   "execution_count": 35,
   "id": "9444fbc4",
   "metadata": {},
   "outputs": [
    {
     "data": {
      "text/plain": [
       "3679"
      ]
     },
     "execution_count": 35,
     "metadata": {},
     "output_type": "execute_result"
    }
   ],
   "source": [
    "df3 = pd.DataFrame(data)\n",
    "df3.columns = ['title','text']\n",
    "df3 = df3.drop_duplicates()\n",
    "len(df3)"
   ]
  },
  {
   "cell_type": "code",
   "execution_count": 25,
   "id": "8aa5e3d4",
   "metadata": {},
   "outputs": [
    {
     "data": {
      "text/plain": [
       "22438"
      ]
     },
     "execution_count": 25,
     "metadata": {},
     "output_type": "execute_result"
    }
   ],
   "source": [
    "total = pd.concat([df,df2,df3])\n",
    "len(total)"
   ]
  },
  {
   "cell_type": "code",
   "execution_count": 36,
   "id": "f8da4e74",
   "metadata": {},
   "outputs": [],
   "source": [
    "total.to_csv(\"total_data.csv\")"
   ]
  },
  {
   "cell_type": "code",
   "execution_count": null,
   "id": "bf3dd915",
   "metadata": {},
   "outputs": [],
   "source": []
  }
 ],
 "metadata": {
  "interpreter": {
   "hash": "916dbcbb3f70747c44a77c7bcd40155683ae19c65e1c03b4aa3499c5328201f1"
  },
  "kernelspec": {
   "display_name": "Python 3.8.10 64-bit",
   "language": "python",
   "name": "python3"
  },
  "language_info": {
   "codemirror_mode": {
    "name": "ipython",
    "version": 3
   },
   "file_extension": ".py",
   "mimetype": "text/x-python",
   "name": "python",
   "nbconvert_exporter": "python",
   "pygments_lexer": "ipython3",
   "version": "3.8.10"
  }
 },
 "nbformat": 4,
 "nbformat_minor": 5
}
